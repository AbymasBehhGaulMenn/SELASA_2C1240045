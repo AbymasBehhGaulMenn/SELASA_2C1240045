{
  "nbformat": 4,
  "nbformat_minor": 0,
  "metadata": {
    "colab": {
      "provenance": [],
      "authorship_tag": "ABX9TyOX5sP22ttbZX/5HRFn8BGn",
      "include_colab_link": true
    },
    "kernelspec": {
      "name": "python3",
      "display_name": "Python 3"
    },
    "language_info": {
      "name": "python"
    }
  },
  "cells": [
    {
      "cell_type": "markdown",
      "metadata": {
        "id": "view-in-github",
        "colab_type": "text"
      },
      "source": [
        "<a href=\"https://colab.research.google.com/github/AbymasBehhGaulMenn/SELASA_2C1240045/blob/main/M.AbiMasykur_2C1240045.ipynb\" target=\"_parent\"><img src=\"https://colab.research.google.com/assets/colab-badge.svg\" alt=\"Open In Colab\"/></a>"
      ]
    },
    {
      "cell_type": "code",
      "execution_count": 9,
      "metadata": {
        "colab": {
          "base_uri": "https://localhost:8080/"
        },
        "id": "Ltche9h6sXaY",
        "outputId": "4e565e64-ba99-49f9-ba41-fd5bebd60fdb"
      },
      "outputs": [
        {
          "output_type": "stream",
          "name": "stdout",
          "text": [
            "4\n"
          ]
        }
      ],
      "source": [
        "#Contoh 1\n",
        "NumbInt = [9, 8, 7, 6, 5, 4, 3, 2, 1, 0]\n",
        "print(NumbInt[5])"
      ]
    },
    {
      "cell_type": "code",
      "source": [
        "#Contoh 2\n",
        "NumbInt = [0 for i in range(10)]\n",
        "print(NumbInt[7])"
      ],
      "metadata": {
        "colab": {
          "base_uri": "https://localhost:8080/"
        },
        "id": "_Z2RFGWzvKOx",
        "outputId": "49014634-600c-44f5-dd16-88096466437f"
      },
      "execution_count": 16,
      "outputs": [
        {
          "output_type": "stream",
          "name": "stdout",
          "text": [
            "0\n"
          ]
        }
      ]
    },
    {
      "cell_type": "code",
      "source": [
        "#Contoh 3\n",
        "StarChar = ['*' for i in range(10)]\n",
        "print(StarChar[3])"
      ],
      "metadata": {
        "colab": {
          "base_uri": "https://localhost:8080/"
        },
        "id": "TkMJitIIwSfJ",
        "outputId": "5079c5ca-923a-45c8-c497-6fec1cc19f9c"
      },
      "execution_count": 14,
      "outputs": [
        {
          "output_type": "stream",
          "name": "stdout",
          "text": [
            "*\n"
          ]
        }
      ]
    },
    {
      "cell_type": "code",
      "source": [
        "#Contoh 4\n",
        "NumbInt = [1, 2, 4, -1, 100, 2, 0, -1, 3, 9]\n",
        "print(NumbInt[4])"
      ],
      "metadata": {
        "colab": {
          "base_uri": "https://localhost:8080/"
        },
        "id": "mpGrH23ExGey",
        "outputId": "0784314a-9d78-4438-afbf-e81f8c063e2a"
      },
      "execution_count": 17,
      "outputs": [
        {
          "output_type": "stream",
          "name": "stdout",
          "text": [
            "100\n"
          ]
        }
      ]
    },
    {
      "cell_type": "code",
      "source": [
        "#Contoh 5\n",
        "# Program IsiArray\n",
        "# Mengisi array dengan nilai dari pengguna\n",
        "# KAMUS\n",
        "# TabInt : array [0..9] of int\n",
        "# i: int\n",
        "# ALGORITMA\n",
        "# Deklarasi array NumbInt dan mengisinya dengan nilai default 0\n",
        "NumbInt = [0 for i in range(10)]\n",
        "# Mengisi array dari pembacaan nilai dari keyboard\n",
        "for i in range(0,10): NumbInt[i] = int(input())"
      ],
      "metadata": {
        "colab": {
          "base_uri": "https://localhost:8080/"
        },
        "id": "2U5_1XLsxpcy",
        "outputId": "815c34c4-b003-491e-cffc-c3945a3c1b21"
      },
      "execution_count": 18,
      "outputs": [
        {
          "name": "stdout",
          "output_type": "stream",
          "text": [
            "73\n",
            "77\n",
            "97\n",
            "99\n",
            "71\n",
            "95\n",
            "79\n",
            "91\n",
            "93\n",
            "69\n"
          ]
        }
      ]
    },
    {
      "cell_type": "code",
      "source": [
        "#Contoh 6\n",
        "# Program IsiArray\n",
        "# Mengisi array dengan nilai dari pengguna\n",
        "# KAMUS\n",
        "# TabInt : array [0..9] of int\n",
        "# I : int\n",
        "# ALGORITMA\n",
        "# Deklarasi array NumbInt dan mengisinya dengan nilai default 0\n",
        "NumbInt = [0 for i in range(10)]\n",
        "# Mengisi array dari pembacaan nilai dari keyboard\n",
        "for i in range(0,10):\n",
        "  NumbInt[i] = int(input ())\n",
        "# Mencetak isi array\n",
        "for i in range(0,10):\n",
        "  print(NumbInt[i])"
      ],
      "metadata": {
        "colab": {
          "base_uri": "https://localhost:8080/"
        },
        "id": "kTkBCu2ayRqK",
        "outputId": "f040e3c2-9884-406d-feae-005b1a0dff7b"
      },
      "execution_count": 28,
      "outputs": [
        {
          "output_type": "stream",
          "name": "stdout",
          "text": [
            "1\n",
            "2\n",
            "3\n",
            "4\n",
            "5\n",
            "6\n",
            "7\n",
            "8\n",
            "9\n",
            "0\n",
            "1\n",
            "2\n",
            "3\n",
            "4\n",
            "5\n",
            "6\n",
            "7\n",
            "8\n",
            "9\n",
            "0\n"
          ]
        }
      ]
    },
    {
      "cell_type": "code",
      "source": [
        "# Program AverageArray\n",
        "# Menghitung nilai rata-rata elemen array\n",
        "# KAMUS\n",
        "# TabInt : array [0..9] of int\n",
        "# i : int\n",
        "# sum : int\n",
        "# ALGORITMA\n",
        "# Deklarasi array TabInt dan mengisinya dengan nilai default 0\n",
        "NumbInt = [0 for i in range(10)]\n",
        "# Mengisi array dari pembacaan nilai dari keyboard\n",
        "for i in range(0,10):\n",
        "  NumbInt[i] = int(input())\n",
        "# Menjumlahkan elemen array\n",
        "sum = 0\n",
        "for i in range(0,10):\n",
        "  sum = sum + NumbInt[i]\n",
        "# Menghitung nilai rata-rata dan menampilkannya\n",
        "rata = sum/10\n",
        "print (\"Nilai rata-rata = \" + str(rata))"
      ],
      "metadata": {
        "colab": {
          "base_uri": "https://localhost:8080/"
        },
        "id": "9tTo9sFm0svj",
        "outputId": "5f353428-3e08-4e18-d5c8-0d728bda4253"
      },
      "execution_count": 31,
      "outputs": [
        {
          "output_type": "stream",
          "name": "stdout",
          "text": [
            "3\n",
            "5\n",
            "7\n",
            "9\n",
            "11\n",
            "13\n",
            "15\n",
            "17\n",
            "19\n",
            "21\n",
            "Nilai rata-rata = 12.0\n"
          ]
        }
      ]
    },
    {
      "cell_type": "markdown",
      "source": [],
      "metadata": {
        "id": "V-xf1kPowRq7"
      }
    },
    {
      "cell_type": "code",
      "source": [
        "#Contoh 1 Matrix\n",
        "MatSatuan = [[0,1,0,1,1,1,0],\n",
        "             [1,1,1,1,0,1,1],\n",
        "             [0,0,0,1,1,0,1]]\n",
        "\n",
        "print(MatSatuan[1][5])"
      ],
      "metadata": {
        "colab": {
          "base_uri": "https://localhost:8080/"
        },
        "id": "Xm2ePs_W23MT",
        "outputId": "75591942-7a04-42f8-d78b-fd888a9e9ab1"
      },
      "execution_count": 39,
      "outputs": [
        {
          "output_type": "stream",
          "name": "stdout",
          "text": [
            "1\n"
          ]
        }
      ]
    },
    {
      "cell_type": "code",
      "source": [
        "#Contoh 2\n",
        "MatValue = [ [0 for j in range (4)] for i in range (3)]\n",
        "print(MatValue[2][3])"
      ],
      "metadata": {
        "colab": {
          "base_uri": "https://localhost:8080/"
        },
        "id": "9EtdVUL66mv8",
        "outputId": "1430a0df-b355-44cf-e54d-4d8cc8185ab2"
      },
      "execution_count": 40,
      "outputs": [
        {
          "output_type": "stream",
          "name": "stdout",
          "text": [
            "0\n"
          ]
        }
      ]
    },
    {
      "cell_type": "code",
      "source": [
        "#Contoh 3\n",
        "<namamatriks>[<baris>][<kolom>]\n",
        "print(MatValue[2][3])"
      ],
      "metadata": {
        "colab": {
          "base_uri": "https://localhost:8080/",
          "height": 110
        },
        "id": "rfjmwOff7Ofs",
        "outputId": "688448bc-866a-466d-c4cb-6fd443cd2cbc"
      },
      "execution_count": 66,
      "outputs": [
        {
          "output_type": "error",
          "ename": "SyntaxError",
          "evalue": "invalid syntax (<ipython-input-66-157c0adf38e4>, line 2)",
          "traceback": [
            "\u001b[0;36m  File \u001b[0;32m\"<ipython-input-66-157c0adf38e4>\"\u001b[0;36m, line \u001b[0;32m2\u001b[0m\n\u001b[0;31m    <namamatriks>[<baris>][<kolom>]\u001b[0m\n\u001b[0m    ^\u001b[0m\n\u001b[0;31mSyntaxError\u001b[0m\u001b[0;31m:\u001b[0m invalid syntax\n"
          ]
        }
      ]
    },
    {
      "cell_type": "code",
      "source": [
        "# Program IsiMatriks;\n",
        "# Isi matriks dan menulis ke layar\n",
        "# KAMUS\n",
        "# M : matriks of integer\n",
        "# NBrs, NKol : int (ukuran brs & kol)\n",
        "# i, j : int (indeks)\n",
        "# ALGORITMA\n",
        "# deklarasi matriks\n",
        "NBrs = 5; NKol = 5;\n",
        "M = [[0 for j in range(NKol)] for i in range(NBrs)]\n",
        "# Mengisi matriks ukuran NBrsxNKol\n",
        "for i in range (NBrs):\n",
        "  for j in range (NKol):\n",
        "    M[i][j] = i * j\n",
        "# Menuliskan isi matriks ke layar\n",
        "for i in range (NBrs):\n",
        "  for j in range (NKol):\n",
        "      print(str(M[i][j])+\" \", end='')\n",
        "print() # print hanya enter"
      ],
      "metadata": {
        "colab": {
          "base_uri": "https://localhost:8080/"
        },
        "id": "lbTVuZYg7lc8",
        "outputId": "e225ffa2-6371-4996-def5-2262d0c92619"
      },
      "execution_count": 60,
      "outputs": [
        {
          "output_type": "stream",
          "name": "stdout",
          "text": [
            "0 0 0 0 0 0 1 2 3 4 0 2 4 6 8 0 3 6 9 12 0 4 8 12 16 \n"
          ]
        }
      ]
    },
    {
      "cell_type": "code",
      "source": [
        "# Program BacaMatriks;\n",
        "# Baca isi matriks dari pengguna dan menulis ke layar\n",
        "# KAMUS\n",
        "# M : matriks of integer\n",
        "# NBrs, NKol : int (ukuran brs & kol)\n",
        "# i, j : int (indeks)\n",
        "# ALGORITMA\n",
        "# deklarasi matriks\n",
        "NBrs = 5; NKol = 5;\n",
        "M = [[0 for j in range(NKol)] for i in range(NBrs)]\n",
        "# Mengisi matriks ukuran NBrsxNKol\n",
        "for i in range (NBrs):\n",
        "    for j in range (NKol):\n",
        "      M[i][j] = int(input(\"Elemen ke-[\"+str(i)+\",\"+str(j)+\"] = \"))\n",
        "# Menuliskan isi matriks ke layar\n",
        "for i in range (NBrs):\n",
        "    for j in range (NKol):\n",
        "          print(str(M[i][j])+\" \", end='') # print tanpa enter\n",
        "    print() # print hanya enter"
      ],
      "metadata": {
        "colab": {
          "base_uri": "https://localhost:8080/"
        },
        "id": "VCQlPjc0-MbF",
        "outputId": "7f8bad3c-9236-47f8-ce0d-091b116a051d"
      },
      "execution_count": 63,
      "outputs": [
        {
          "output_type": "stream",
          "name": "stdout",
          "text": [
            "Elemen ke-[0,0] = 3\n",
            "Elemen ke-[0,1] = 7\n",
            "Elemen ke-[0,2] = 11\n",
            "Elemen ke-[0,3] = 13\n",
            "Elemen ke-[0,4] = 17\n",
            "Elemen ke-[1,0] = 2\n",
            "Elemen ke-[1,1] = 4\n",
            "Elemen ke-[1,2] = 6\n",
            "Elemen ke-[1,3] = 8\n",
            "Elemen ke-[1,4] = 10\n",
            "Elemen ke-[2,0] = 12\n",
            "Elemen ke-[2,1] = 14\n",
            "Elemen ke-[2,2] = 16\n",
            "Elemen ke-[2,3] = 18\n",
            "Elemen ke-[2,4] = 20\n",
            "Elemen ke-[3,0] = 17\n",
            "Elemen ke-[3,1] = 27\n",
            "Elemen ke-[3,2] = 37\n",
            "Elemen ke-[3,3] = 47\n",
            "Elemen ke-[3,4] = 57\n",
            "Elemen ke-[4,0] = 67\n",
            "Elemen ke-[4,1] = 77\n",
            "Elemen ke-[4,2] = 87\n",
            "Elemen ke-[4,3] = 97\n",
            "Elemen ke-[4,4] = 107\n",
            "3 7 11 13 17 \n",
            "2 4 6 8 10 \n",
            "12 14 16 18 20 \n",
            "17 27 37 47 57 \n",
            "67 77 87 97 107 \n"
          ]
        }
      ]
    },
    {
      "cell_type": "code",
      "source": [
        "# Program untuk membaca matriks dan mengalikan setiap elemennya\n",
        "dengan X\n",
        "# Membaca ukuran matriks\n",
        "baris = int(input(\"Masukkan jumlah baris: \"))\n",
        "kolom = int(input(\"Masukkan jumlah kolom: \"))\n",
        "# Membaca elemen-elemen matriks\n",
        "print(\"Masukkan elemen-elemen matriks:\")\n",
        "matriks = [7]\n",
        "for i in range(baris):\n",
        "baris_matriks = [3]\n",
        "for j in range(kolom):\n",
        "elemen = int(input(f\"Elemen [{i}][{j}]: \"))\n",
        "baris_matriks.append(elemen)\n",
        "matriks.append(baris_matriks)\n",
        "# Membaca nilai X\n",
        "X = int(input(\"Masukkan nilai X untuk mengalikan semua elemen\n",
        "matriks: \"))\n",
        "# Mengalikan setiap elemen matriks dengan X\n",
        "hasil = []\n",
        "for i in range(baris):\n",
        "hasil_baris = []\n",
        "for j in range(kolom):\n",
        "hasil_baris.append(matriks[i][j] * X)\n",
        "hasil.append(hasil_baris)\n",
        "# Menampilkan hasil matriks\n",
        "print(\"\\nMatriks setelah dikalikan dengan\", X, \":\")\n",
        "for baris in hasil:\n",
        "print(baris)"
      ],
      "metadata": {
        "colab": {
          "base_uri": "https://localhost:8080/",
          "height": 110
        },
        "id": "6XpYwdpm_Si2",
        "outputId": "edfb62ce-a662-4e55-de97-d2f23e99da2a"
      },
      "execution_count": 69,
      "outputs": [
        {
          "output_type": "error",
          "ename": "SyntaxError",
          "evalue": "unterminated string literal (detected at line 16) (<ipython-input-69-2bade37f9cc1>, line 16)",
          "traceback": [
            "\u001b[0;36m  File \u001b[0;32m\"<ipython-input-69-2bade37f9cc1>\"\u001b[0;36m, line \u001b[0;32m16\u001b[0m\n\u001b[0;31m    X = int(input(\"Masukkan nilai X untuk mengalikan semua elemen\u001b[0m\n\u001b[0m                  ^\u001b[0m\n\u001b[0;31mSyntaxError\u001b[0m\u001b[0;31m:\u001b[0m unterminated string literal (detected at line 16)\n"
          ]
        }
      ]
    },
    {
      "cell_type": "code",
      "source": [
        "# Program untuk membaca matriks dan mengalikan setiap elemennya\n",
        "dengan X\n",
        "# Membaca ukuran matriks\n",
        "baris = int(input(\"Masukkan jumlah baris: \"))\n",
        "kolom = int(input(\"Masukkan jumlah kolom: \"))\n",
        "# Membaca elemen-elemen matriks\n",
        "print(\"Masukkan elemen-elemen matriks:\")\n",
        "matriks = []\n",
        "for i in range(baris):\n",
        "baris_matriks = []\n",
        "for j in range(kolom):\n",
        "elemen = int(input(f\"Elemen [{i}][{j}]: \"))\n",
        "baris_matriks.append(elemen)\n",
        "matriks.append(baris_matriks)\n",
        "# Membaca nilai X\n",
        "X = int(input(\"Masukkan nilai X untuk mengalikan semua elemen\n",
        "matriks: \"))\n",
        "# Mengalikan setiap elemen matriks dengan X\n",
        "hasil = []\n",
        "for i in range(baris):\n",
        "hasil_baris = []\n",
        "for j in range(kolom):\n",
        "hasil_baris.append(matriks[i][j] * X)\n",
        "hasil.append(hasil_baris)\n",
        "# Menampilkan hasil matriks\n",
        "print(\"\\nMatriks setelah dikalikan dengan\", X, \":\")\n",
        "for baris in hasil:\n",
        "print(baris)"
      ],
      "metadata": {
        "colab": {
          "base_uri": "https://localhost:8080/",
          "height": 110
        },
        "id": "qSf0971m_Wqm",
        "outputId": "31e3c5b4-100c-4bf8-cb9b-bcef6df74548"
      },
      "execution_count": 65,
      "outputs": [
        {
          "output_type": "error",
          "ename": "SyntaxError",
          "evalue": "unterminated string literal (detected at line 16) (<ipython-input-65-5afe11ebc47a>, line 16)",
          "traceback": [
            "\u001b[0;36m  File \u001b[0;32m\"<ipython-input-65-5afe11ebc47a>\"\u001b[0;36m, line \u001b[0;32m16\u001b[0m\n\u001b[0;31m    X = int(input(\"Masukkan nilai X untuk mengalikan semua elemen\u001b[0m\n\u001b[0m                  ^\u001b[0m\n\u001b[0;31mSyntaxError\u001b[0m\u001b[0;31m:\u001b[0m unterminated string literal (detected at line 16)\n"
          ]
        }
      ]
    },
    {
      "cell_type": "code",
      "source": [
        "def baca_matriks():\n",
        "    baris = int(input(\"Masukkan jumlah baris: \"))\n",
        "    kolom = int(input(\"Masukkan jumlah kolom: \"))\n",
        "    matriks = []\n",
        "    for i in range(baris):22\n",
        "    1\n",
        "    23\n",
        "    23\n",
        "        baris_matriks = []\n",
        "        for j in range(kolom):\n",
        "            elemen = int(input(f\"Elemen [{i}][{j}]: \"))\n",
        "            baris_matriks.append(elemen)\n",
        "        matriks.append(baris_matriks)\n",
        "    return matriks\n",
        "\n",
        "def kali_matriks(matriks, X):\n",
        "    baris = len(matriks)\n",
        "    kolom = len(matriks[0])\n",
        "    hasil = []\n",
        "    for i in range(baris):\n",
        "        hasil_baris = []\n",
        "        for j in range(kolom):\n",
        "            hasil_baris.append(matriks[i][j] * X)\n",
        "        hasil.append(hasil_baris)\n",
        "    return hasil\n",
        "\n",
        "def tampilkan_matriks(matriks):\n",
        "    for baris in matriks:\n",
        "        print(baris)\n",
        "\n",
        "# Program utama\n",
        "matriks = baca_matriks()\n",
        "X = int(input(\"Masukkan nilai X untuk mengalikan semua elemen matriks: \"))\n",
        "hasil = kali_matriks(matriks, X)\n",
        "print(\"\\nMatriks setelah dikalikan dengan\", X, \":\")"
      ],
      "metadata": {
        "colab": {
          "base_uri": "https://localhost:8080/"
        },
        "id": "wda7kqQS_5Yu",
        "outputId": "ea82eea9-247b-4fb0-df01-cee392700cbd"
      },
      "execution_count": 67,
      "outputs": [
        {
          "output_type": "stream",
          "name": "stdout",
          "text": [
            "Masukkan jumlah baris: 7\n",
            "Masukkan jumlah kolom: 3\n",
            "Elemen [0][0]: 13\n",
            "Elemen [0][1]: 3\n",
            "Elemen [0][2]: 5\n",
            "Elemen [1][0]: 7\n",
            "Elemen [1][1]: 9\n",
            "Elemen [1][2]: 1\n",
            "Elemen [2][0]: 45\n",
            "Elemen [2][1]: 23\n",
            "Elemen [2][2]: 1\n",
            "Elemen [3][0]: 23\n",
            "Elemen [3][1]: 6\n",
            "Elemen [3][2]: 0\n",
            "Elemen [4][0]: 67\n",
            "Elemen [4][1]: 5\n",
            "Elemen [4][2]: 67\n",
            "Elemen [5][0]: 89\n",
            "Elemen [5][1]: 00\n",
            "Elemen [5][2]: 87\n",
            "Elemen [6][0]: 54\n",
            "Elemen [6][1]: 21\n",
            "Elemen [6][2]: 12\n",
            "Masukkan nilai X untuk mengalikan semua elemen matriks: 23\n",
            "\n",
            "Matriks setelah dikalikan dengan 23 :\n"
          ]
        }
      ]
    }
  ]
}