{
  "nbformat": 4,
  "nbformat_minor": 0,
  "metadata": {
    "colab": {
      "provenance": [],
      "authorship_tag": "ABX9TyNkC3kMW1A4gFQxbCRg1FhX",
      "include_colab_link": true
    },
    "kernelspec": {
      "name": "python3",
      "display_name": "Python 3"
    },
    "language_info": {
      "name": "python"
    }
  },
  "cells": [
    {
      "cell_type": "markdown",
      "metadata": {
        "id": "view-in-github",
        "colab_type": "text"
      },
      "source": [
        "<a href=\"https://colab.research.google.com/github/AbymasBehhGaulMenn/SELASA_2C1240045/blob/main/Untitled4.ipynb\" target=\"_parent\"><img src=\"https://colab.research.google.com/assets/colab-badge.svg\" alt=\"Open In Colab\"/></a>"
      ]
    },
    {
      "cell_type": "code",
      "execution_count": 3,
      "metadata": {
        "colab": {
          "base_uri": "https://localhost:8080/"
        },
        "id": "3V8ZZmMVJm1L",
        "outputId": "5024cc07-b568-4a56-f039-e32886c5745a"
      },
      "outputs": [
        {
          "output_type": "stream",
          "name": "stdout",
          "text": [
            "Masukkan nama Anda: Muhammad Abi Masykur\n",
            "Halo, Muhammad Abi Masykur! Selamat belajar Phython!\n"
          ]
        }
      ],
      "source": [
        "#Soal 1\n",
        "\n",
        "nama = input(\"Masukkan nama Anda: \")\n",
        "print(f\"Halo, {nama}! Selamat belajar Phython!\")"
      ]
    },
    {
      "cell_type": "code",
      "source": [
        "#Soal 2\n",
        "\n",
        "panjang = float(input(\"Masukkan panjang persegi panjang: \"))\n",
        "lebar = float(input(\"Masukkan lebar persegi panjang: \"))\n",
        "luas = panjang * lebar\n",
        "print(f\"Luas persegi panjang adalah: luas = 15\")\n",
        "\n",
        ""
      ],
      "metadata": {
        "colab": {
          "base_uri": "https://localhost:8080/"
        },
        "id": "NkErNVymMIEt",
        "outputId": "716effae-22b6-49f9-ab09-495325b9e5e1"
      },
      "execution_count": 38,
      "outputs": [
        {
          "output_type": "stream",
          "name": "stdout",
          "text": [
            "Masukkan panjang persegi panjang: 5\n",
            "Masukkan lebar persegi panjang: 3\n",
            "Luas persegi panjang adalah: luas = 15\n"
          ]
        }
      ]
    },
    {
      "cell_type": "code",
      "source": [
        "#Soal 3\n",
        "bilangan = int(input(\"Masukkan bilangan bulat: \"))\n",
        "\n",
        "if bilangan % 2 == 0:\n",
        "    print(f\"{bilangan} adalah bilangan genap.\")\n",
        "else:\n",
        "    print(f\"{bilangan} adalah bilangan ganjil.\")"
      ],
      "metadata": {
        "colab": {
          "base_uri": "https://localhost:8080/"
        },
        "id": "ipTz00y5PNhd",
        "outputId": "f362f851-00b9-4956-eff2-825d6c49d3f1"
      },
      "execution_count": 16,
      "outputs": [
        {
          "output_type": "stream",
          "name": "stdout",
          "text": [
            "Masukkan bilangan bulat: 7\n",
            "7 adalah bilangan ganjil.\n"
          ]
        }
      ]
    },
    {
      "cell_type": "code",
      "source": [
        "#Soal 4\n",
        "#program deret bilangan 1 sampai 20 perulangan for\n",
        "for i in range(1,21) :\n",
        "    print(i,end = \" \")"
      ],
      "metadata": {
        "colab": {
          "base_uri": "https://localhost:8080/"
        },
        "id": "iXIHgQfiQbvF",
        "outputId": "a22a5e11-6cfd-4f1b-c8c9-6da21566b4cf"
      },
      "execution_count": 14,
      "outputs": [
        {
          "output_type": "stream",
          "name": "stdout",
          "text": [
            "1 2 3 4 5 6 7 8 9 10 11 12 13 14 15 16 17 18 19 20 "
          ]
        }
      ]
    },
    {
      "cell_type": "code",
      "source": [
        "#Soal 5\n",
        "a = int(input(\"Masukkan bilangan bulat pertama: \"))\n",
        "b = int(input(\"Masukkan bilangan bulat kedua: \"))\n",
        "jumlah = 0\n",
        "\n",
        "for i in range (a, b + 1):\n",
        "    jumlah += i\n",
        "print(f\"Jumlah semua bilangan bulat antara {a} dan {b} adalah: {jumlah}\")\n"
      ],
      "metadata": {
        "colab": {
          "base_uri": "https://localhost:8080/"
        },
        "id": "jSXQxYscVUx1",
        "outputId": "61125fa2-bb75-4669-d5d9-84433ca6572c"
      },
      "execution_count": 36,
      "outputs": [
        {
          "output_type": "stream",
          "name": "stdout",
          "text": [
            "Masukkan bilangan bulat pertama: 3\n",
            "Masukkan bilangan bulat kedua: 7\n",
            "Jumlah semua bilangan bulat antara 3 dan 7 adalah: 25\n"
          ]
        }
      ]
    },
    {
      "cell_type": "code",
      "source": [
        "#Soal 6\n",
        "#Program masukkan dua bilangan bulat\n",
        "a = int(input(\"Masukkan bilangan bulat pertama: \"))\n",
        "b = int(input(\"Masukkan bilangan bulat kedua: \"))\n",
        "\n",
        "for bilangan in range (a, b + 1):\n",
        "    if bilangan % 2 == 0:\n",
        "        print(bilangan)"
      ],
      "metadata": {
        "colab": {
          "base_uri": "https://localhost:8080/"
        },
        "id": "vypHl8wWXw2t",
        "outputId": "32f812b3-62eb-42a3-8af2-2c6c87f7af62"
      },
      "execution_count": 12,
      "outputs": [
        {
          "output_type": "stream",
          "name": "stdout",
          "text": [
            "Masukkan bilangan bulat pertama: 3\n",
            "Masukkan bilangan bulat kedua: 10\n",
            "4\n",
            "6\n",
            "8\n",
            "10\n"
          ]
        }
      ]
    },
    {
      "cell_type": "code",
      "source": [
        "#Soal 7\n",
        "#  Array menggunakan Loop untuk urutan terbalik\n",
        "reversed_arr =[0] * len(array)\n",
        "array = [5, 2, 8, 1]\n",
        "panjang_array = len(array)\n",
        "for i in range(panjang_array - 1, -1, -1):\n",
        "    print(array[i])"
      ],
      "metadata": {
        "colab": {
          "base_uri": "https://localhost:8080/"
        },
        "id": "fqzQ0ZFXdTyb",
        "outputId": "3b3c5c53-e63d-4847-8337-062ad9c5a57f"
      },
      "execution_count": 19,
      "outputs": [
        {
          "output_type": "stream",
          "name": "stdout",
          "text": [
            "1\n",
            "8\n",
            "2\n",
            "5\n"
          ]
        }
      ]
    },
    {
      "cell_type": "code",
      "source": [
        "#Soal 7 juga\n",
        "#Program array menggunakan reserved untuk urutan terbalik\n",
        "array = [5,2,8,1]\n",
        "reserved_arr = array[ : :-1]\n",
        "print(reserved_arr)"
      ],
      "metadata": {
        "colab": {
          "base_uri": "https://localhost:8080/"
        },
        "id": "0gy5gGJMfPmb",
        "outputId": "617599dd-4690-451e-ef4f-7280408ca9cb"
      },
      "execution_count": 20,
      "outputs": [
        {
          "output_type": "stream",
          "name": "stdout",
          "text": [
            "[1, 8, 2, 5]\n"
          ]
        }
      ]
    },
    {
      "cell_type": "code",
      "source": [
        "#Soal 8\n",
        "#Masukkan bilangan bulat dan menentukan bilangan prima\n",
        "angka = int(input(\"masukkan bilangan bulat:\"))\n",
        "prima = True\n",
        "if angka < 2 :\n",
        "    prima = False\n",
        "else :\n",
        "    for i in range(2, angka):\n",
        "        if angka % i == 0:\n",
        "            prima = False\n",
        "            break\n",
        "if prima:\n",
        "    print (f\"{angka} adalah bilangan prima.\")\n",
        "else:\n",
        "    print (f\"{angka} bukan bilangan prima.\")"
      ],
      "metadata": {
        "colab": {
          "base_uri": "https://localhost:8080/"
        },
        "id": "IrJIIa6wiceT",
        "outputId": "a6266135-f8b8-4d49-da59-daf22b667db5"
      },
      "execution_count": 23,
      "outputs": [
        {
          "output_type": "stream",
          "name": "stdout",
          "text": [
            "masukkan bilangan bulat:13\n",
            "13 adalah bilangan prima.\n"
          ]
        }
      ]
    }
  ]
}