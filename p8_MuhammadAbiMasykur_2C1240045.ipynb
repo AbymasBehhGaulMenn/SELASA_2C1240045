{
  "nbformat": 4,
  "nbformat_minor": 0,
  "metadata": {
    "colab": {
      "provenance": [],
      "name": "p8_MuhammadAbiMasykur_2C1240045.ipynb",
      "include_colab_link": true
    },
    "kernelspec": {
      "name": "python3",
      "display_name": "Python 3"
    },
    "language_info": {
      "name": "python"
    }
  },
  "cells": [
    {
      "cell_type": "markdown",
      "metadata": {
        "id": "view-in-github",
        "colab_type": "text"
      },
      "source": [
        "<a href=\"https://colab.research.google.com/github/AbymasBehhGaulMenn/SELASA_2C1240045/blob/main/p8_MuhammadAbiMasykur_2C1240045.ipynb\" target=\"_parent\"><img src=\"https://colab.research.google.com/assets/colab-badge.svg\" alt=\"Open In Colab\"/></a>"
      ]
    },
    {
      "cell_type": "markdown",
      "source": [
        "**FUNDAMENTAL ARRAY**"
      ],
      "metadata": {
        "id": "wfgZxt5q_TzV"
      }
    },
    {
      "cell_type": "code",
      "execution_count": 2,
      "metadata": {
        "id": "9TB1ZwTr_DYz",
        "outputId": "af7182cb-5efa-44be-e923-d529e449164b",
        "colab": {
          "base_uri": "https://localhost:8080/"
        }
      },
      "outputs": [
        {
          "output_type": "stream",
          "name": "stdout",
          "text": [
            "[10, 20, 30, 40]\n"
          ]
        }
      ],
      "source": [
        "arr = [10, 20, 30, 40]\n",
        "print(arr)"
      ]
    },
    {
      "cell_type": "code",
      "source": [
        "list_numbers = [1, 2, 3, 4, 5]\n",
        "print(list_numbers)"
      ],
      "metadata": {
        "id": "Qye2YU0__OFZ",
        "outputId": "b99ee8f2-2483-4abd-893d-330fa9de50df",
        "colab": {
          "base_uri": "https://localhost:8080/"
        }
      },
      "execution_count": 6,
      "outputs": [
        {
          "output_type": "stream",
          "name": "stdout",
          "text": [
            "[1, 2, 3, 4, 5]\n"
          ]
        }
      ]
    },
    {
      "cell_type": "code",
      "source": [
        "list_numbers[0] = 100  # Mengubah elemen pertama menjadi 100\n",
        "print(list_numbers)"
      ],
      "metadata": {
        "id": "Fl3348wK_Rjh",
        "outputId": "333d6895-95a4-47a4-c37f-78b62089dee8",
        "colab": {
          "base_uri": "https://localhost:8080/"
        }
      },
      "execution_count": 8,
      "outputs": [
        {
          "output_type": "stream",
          "name": "stdout",
          "text": [
            "[100, 2, 3, 4, 5]\n"
          ]
        }
      ]
    },
    {
      "cell_type": "markdown",
      "source": [
        "**MENDEKLARASIKAN ARRAY**"
      ],
      "metadata": {
        "id": "vu07k-Tj_cp9"
      }
    },
    {
      "cell_type": "code",
      "source": [
        "arr = [1, 2, 3, 4, 5]\n",
        "print(arr)"
      ],
      "metadata": {
        "id": "Z7JTYURvCO49",
        "outputId": "8023ec24-a713-463c-93e5-13f07b2fc646",
        "colab": {
          "base_uri": "https://localhost:8080/"
        }
      },
      "execution_count": 9,
      "outputs": [
        {
          "output_type": "stream",
          "name": "stdout",
          "text": [
            "[1, 2, 3, 4, 5]\n"
          ]
        }
      ]
    },
    {
      "cell_type": "code",
      "source": [
        "data = [1, 2, 3, 'hello', 5.5]  # array dengan elemen tipe berbeda\n",
        "print(data)"
      ],
      "metadata": {
        "id": "OKBRVSaA_f6u",
        "outputId": "a956795f-1d4a-4d3f-db85-5b38c785e7f3",
        "colab": {
          "base_uri": "https://localhost:8080/"
        }
      },
      "execution_count": 10,
      "outputs": [
        {
          "output_type": "stream",
          "name": "stdout",
          "text": [
            "[1, 2, 3, 'hello', 5.5]\n"
          ]
        }
      ]
    },
    {
      "cell_type": "code",
      "source": [
        "arr = [0] * 5  # Membuat array dengan 5 elemen, semua berisi 0\n",
        "print(arr)"
      ],
      "metadata": {
        "id": "2b5ZTBRJ_isp",
        "outputId": "92d53642-d133-4ccf-ab2c-bacef11067bf",
        "colab": {
          "base_uri": "https://localhost:8080/"
        }
      },
      "execution_count": 11,
      "outputs": [
        {
          "output_type": "stream",
          "name": "stdout",
          "text": [
            "[0, 0, 0, 0, 0]\n"
          ]
        }
      ]
    },
    {
      "cell_type": "code",
      "source": [
        "arr = [10, 20, 30, 40]\n",
        "print(arr[0])  # Output: 10 (indeks pertama)\n",
        "print(arr[3])  # Output: 40 (indeks terakhir)"
      ],
      "metadata": {
        "colab": {
          "base_uri": "https://localhost:8080/"
        },
        "id": "GHWtWUHi_knC",
        "outputId": "634681c1-a198-4070-fcde-bd625156d382"
      },
      "execution_count": 12,
      "outputs": [
        {
          "output_type": "stream",
          "name": "stdout",
          "text": [
            "10\n",
            "40\n"
          ]
        }
      ]
    },
    {
      "cell_type": "markdown",
      "source": [
        "**PEMROSESAN SEKUENSIAL ARRAY**"
      ],
      "metadata": {
        "id": "fQEuwUc3_mrE"
      }
    },
    {
      "cell_type": "code",
      "source": [
        "arr = [10, 20, 30, 40, 50]\n",
        "for elemen in arr:\n",
        "    print(elemen)\n"
      ],
      "metadata": {
        "colab": {
          "base_uri": "https://localhost:8080/"
        },
        "id": "7ZE8ZrrE_qmV",
        "outputId": "3700e569-e3c0-4e8d-b480-ab33a561371c"
      },
      "execution_count": 13,
      "outputs": [
        {
          "output_type": "stream",
          "name": "stdout",
          "text": [
            "10\n",
            "20\n",
            "30\n",
            "40\n",
            "50\n"
          ]
        }
      ]
    },
    {
      "cell_type": "code",
      "source": [
        "total = 0\n",
        "for elemen in arr:\n",
        "    total += elemen\n",
        "print(total)  # Output: 150\n"
      ],
      "metadata": {
        "colab": {
          "base_uri": "https://localhost:8080/"
        },
        "id": "sWK3Hdb9_tzN",
        "outputId": "db5be13a-1d5f-4f36-d004-7bcaafac1209"
      },
      "execution_count": 14,
      "outputs": [
        {
          "output_type": "stream",
          "name": "stdout",
          "text": [
            "150\n"
          ]
        }
      ]
    },
    {
      "cell_type": "code",
      "source": [
        "# Latihan Praktikum 8\n",
        "# Soal satu\n",
        "\n",
        "# Membuat array dengan 10 angka acak antara 1 dan 100\n",
        "arr = [random.randint(1, 100) for _ in range(10)]\n",
        "print(\"Array:\", arr)\n",
        "\n",
        "# Mencari nilai maksimum\n",
        "max_value = max(arr)\n",
        "print(\"Nilai maksimum:\", max_value)"
      ],
      "metadata": {
        "id": "w6yUu52AayFA",
        "outputId": "888c66f7-be27-4339-d2c6-c4efd13f5b44",
        "colab": {
          "base_uri": "https://localhost:8080/"
        }
      },
      "execution_count": 19,
      "outputs": [
        {
          "output_type": "stream",
          "name": "stdout",
          "text": [
            "Array: [26, 76, 1, 93, 50, 91, 20, 70, 95, 58]\n",
            "Nilai maksimum: 95\n"
          ]
        }
      ]
    },
    {
      "cell_type": "code",
      "source": [
        "c"
      ],
      "metadata": {
        "id": "wpygnE5RcO3o",
        "outputId": "600d910a-e547-49a9-ca84-4394c946d42e",
        "colab": {
          "base_uri": "https://localhost:8080/"
        }
      },
      "execution_count": 21,
      "outputs": [
        {
          "output_type": "stream",
          "name": "stdout",
          "text": [
            "Array: [39 85 94  6 25 19  4 33 24  7]\n",
            "Nilai minimum: 4\n"
          ]
        }
      ]
    },
    {
      "cell_type": "code",
      "source": [
        "# Soal tiga\n",
        "# Membuat array dengan 5 angka acak antara 1 dan 100\n",
        "arr = np.random.randint(1, 100, size=5)\n",
        "print(\"Array:\", arr)\n",
        "\n",
        "# Menjumlahkan semua elemen array\n",
        "total = np.sum(arr)\n",
        "print(\"Hasil penjumlahan:\", total)"
      ],
      "metadata": {
        "id": "87LZLsgCczC6",
        "outputId": "a726983a-ff4e-45af-f654-902f00dd8f32",
        "colab": {
          "base_uri": "https://localhost:8080/"
        }
      },
      "execution_count": 22,
      "outputs": [
        {
          "output_type": "stream",
          "name": "stdout",
          "text": [
            "Array: [15 10 94 31 40]\n",
            "Hasil penjumlahan: 190\n"
          ]
        }
      ]
    },
    {
      "cell_type": "code",
      "source": [
        "#Soal empat\n",
        "arr= [1,3,5,7,11,13,17,23,]\n",
        "jumlah_elemen = len(arr)\n",
        "print(\"jumlah elemen array:\",jumlah_elemen)"
      ],
      "metadata": {
        "id": "LVNYgN6UfF0Y",
        "outputId": "74f3b8a9-6d2c-4cf4-e3cc-b651036da10f",
        "colab": {
          "base_uri": "https://localhost:8080/"
        }
      },
      "execution_count": 23,
      "outputs": [
        {
          "output_type": "stream",
          "name": "stdout",
          "text": [
            "jumlah elemen array: 8\n"
          ]
        }
      ]
    },
    {
      "cell_type": "code",
      "source": [
        "#Soal lima\n",
        "arr= [1,3,5,7,11,13,17,23,]\n",
        "ratarata = sum(arr)/len(arr)\n",
        "print(\"rata-rata elemen array:\" ,ratarata)\n",
        "#"
      ],
      "metadata": {
        "id": "CIFq_HMGgoEg",
        "outputId": "4c965365-4bd6-4f42-d2e5-5a0ddc914165",
        "colab": {
          "base_uri": "https://localhost:8080/"
        }
      },
      "execution_count": 26,
      "outputs": [
        {
          "output_type": "stream",
          "name": "stdout",
          "text": [
            "rata-rata elemen array: 10.0\n"
          ]
        }
      ]
    },
    {
      "cell_type": "code",
      "source": [
        "#Tugas 1\n",
        "# Membuat array dengan 6 elemen integer\n",
        "S = [1, 3, 5, 7, 11, 13]\n",
        "\n",
        "# Menerima input integer dari pengguna\n",
        "D = int(input(\"Masukkan nilai D: \"))\n",
        "\n",
        "# Mengalikan setiap elemen array dengan input integer dan mencetak hasilnya\n",
        "for i in range(len(S)):\n",
        "  S[i] = S[i] * D\n",
        "print(S)"
      ],
      "metadata": {
        "id": "ipgu8W9uiq8v",
        "outputId": "2f443208-74f6-4aaa-a58f-b6e21977ffee",
        "colab": {
          "base_uri": "https://localhost:8080/"
        }
      },
      "execution_count": 28,
      "outputs": [
        {
          "output_type": "stream",
          "name": "stdout",
          "text": [
            "Masukkan nilai D: 3\n",
            "[3, 9, 15, 21, 33, 39]\n"
          ]
        }
      ]
    },
    {
      "cell_type": "code",
      "source": [
        " #Tugas 2\n",
        " #Inisialisasi array T\n",
        "T = [9, 12, 30, -1, 0, 4, -1, 3, 30, 14]  # Contoh array dengan 10 elemen\n",
        "\n",
        "# Inisialisasi nilai terbesar dengan elemen pertama array\n",
        "largest = T[0]\n",
        "\n",
        "# Iterasi melalui array untuk mencari nilai terbesar\n",
        "for element in T:\n",
        "    if element > largest:\n",
        "        largest = element\n",
        "\n",
        "# Menampilkan nilai terbesar\n",
        "print(\"Nilai terbesar dari T:\", largest)\n",
        "\n",
        "# Contoh array kedua\n",
        "T = [1, 3, 5, 8, -12, 90, 3, 5] # Contoh array dengan 8 elemen\n",
        "\n",
        "# Inisialisasi nilai terbesar dengan elemen pertama array\n",
        "largest = T[0]\n",
        "\n",
        "# Iterasi melalui array untuk mencari nilai terbesar\n",
        "for element in T:\n",
        "    if element > largest:\n",
        "        largest = element\n",
        "\n",
        "# Menampilkan nilai terbesar\n",
        "print(\"Nilai terbesar dari T:\", largest)"
      ],
      "metadata": {
        "id": "UNBIfdlWix53",
        "outputId": "458458cf-550f-45de-f7f4-dc223c1d8899",
        "colab": {
          "base_uri": "https://localhost:8080/"
        }
      },
      "execution_count": 29,
      "outputs": [
        {
          "output_type": "stream",
          "name": "stdout",
          "text": [
            "Nilai terbesar dari T: 30\n",
            "Nilai terbesar dari T: 90\n"
          ]
        }
      ]
    }
  ]
}