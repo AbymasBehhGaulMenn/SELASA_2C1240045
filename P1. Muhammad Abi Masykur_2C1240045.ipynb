{
  "nbformat": 4,
  "nbformat_minor": 0,
  "metadata": {
    "colab": {
      "provenance": [],
      "toc_visible": true,
      "authorship_tag": "ABX9TyORKf6Z2A/2tkpGLPKx9R+5",
      "include_colab_link": true
    },
    "kernelspec": {
      "name": "python3",
      "display_name": "Python 3"
    },
    "language_info": {
      "name": "python"
    }
  },
  "cells": [
    {
      "cell_type": "markdown",
      "metadata": {
        "id": "view-in-github",
        "colab_type": "text"
      },
      "source": [
        "<a href=\"https://colab.research.google.com/github/AbymasBehhGaulMenn/SELASA_2C1240045/blob/main/P1.%20Muhammad%20Abi%20Masykur_2C1240045.ipynb\" target=\"_parent\"><img src=\"https://colab.research.google.com/assets/colab-badge.svg\" alt=\"Open In Colab\"/></a>"
      ]
    },
    {
      "cell_type": "code",
      "execution_count": 16,
      "metadata": {
        "colab": {
          "base_uri": "https://localhost:8080/"
        },
        "id": "Tv0ALCXHrxJF",
        "outputId": "219b8913-67f3-4534-fddd-5fc2da37f693"
      },
      "outputs": [
        {
          "output_type": "stream",
          "name": "stdout",
          "text": [
            "Masukkan suatu bilangan: 21\n",
            "21 bilangan yang habis dibagi 3\n"
          ]
        }
      ],
      "source": [
        "# Tugas 1\n",
        "# Soal 1\n",
        "bilangan=int(input(\"Masukkan suatu bilangan: \"))\n",
        "if angka % 3 == 0:\n",
        "   print (f\"{angka} bilangan yang habis dibagi 3\")\n",
        "else:\n",
        "   print (f\"{angka} bilangan yang tidak habis dibagi 3\")"
      ]
    },
    {
      "cell_type": "code",
      "source": [
        "#Soal 2\n",
        "# Meminta input nama dan jenis kelamin\n",
        "nama = input(\"Masukkan nama Anda: \")\n",
        "jenis_kelamin = input(\"Masukkan jenis kelamin anda (pria/wanita): \")\n",
        "# Menentukan sapaan berdasarkan jenis kelamin\n",
        "if jenis_kelamin == \"pria\":\n",
        "    print(f\"Halo bro {nama}!\")\n",
        "elif jenis_kelamin == \"wanita\":\n",
        "    print(f\"Halo sis {nama}!\")"
      ],
      "metadata": {
        "colab": {
          "base_uri": "https://localhost:8080/"
        },
        "id": "B3KTwYDGuNcg",
        "outputId": "46d8e20d-81e1-49b6-a109-d776226f1bb2"
      },
      "execution_count": 6,
      "outputs": [
        {
          "name": "stdout",
          "output_type": "stream",
          "text": [
            "Masukkan nama Anda: Muhammad Abi Masykur\n",
            "Masukkan jenis kelamin anda (pria/wanita): Pria\n"
          ]
        }
      ]
    },
    {
      "cell_type": "code",
      "source": [
        "# Soal 3\n",
        "# Minta input usia dari anda\n",
        "usia = int(input(\"Masukkan usia Anda: \"))\n",
        "# Menentukan kategori usia anda\n",
        "if usia < 0:\n",
        "    print(\"Usia tidak terdata!\")\n",
        "elif usia < 13:\n",
        "    print(\"Anda masih anak-anak.\")\n",
        "elif usia < 20:\n",
        "    print(\"Anda mulai remaja,jaga pergaulan dan semangattt!!!.\")\n",
        "elif usia < 60:\n",
        "    print(\"Anda sudah dewasa.\")\n",
        "else:\n",
        "    print(\"Anda sekarang lansia,berhati-hatilah !.\")"
      ],
      "metadata": {
        "colab": {
          "base_uri": "https://localhost:8080/"
        },
        "id": "lexIUtQq1Kqv",
        "outputId": "321e4b6d-8b45-4e4b-e999-b18e99003769"
      },
      "execution_count": 31,
      "outputs": [
        {
          "output_type": "stream",
          "name": "stdout",
          "text": [
            "Masukkan usia Anda: 19\n",
            "Anda mulai remaja,jaga pergaulan dan semangattt!!!.\n"
          ]
        }
      ]
    },
    {
      "cell_type": "code",
      "source": [
        "# Tugas 2\n",
        "# 1 Soal\n",
        "# Program Menghitung Total Belanja Seorang Pelanggan\n",
        "total_belanja = 0\n",
        "# Input jumlah barang yang dibeli\n",
        "jumlah_barang = int(input(\"Masukkan jumlah barang yang dibeli: \"))\n",
        "# Looping untuk input data setiap barang yang dibeli\n",
        "for i in range(jumlah_barang):\n",
        "    print(f\"\\nBarang ke-{i+1}\")\n",
        "    harga = float(input(\"Masukkan harga satuan barang: Rp \"))\n",
        "    jumlah = int(input(\"Masukkan jumlah unit: \"))\n",
        "    # Hitung total per barang dan tambahkan ke total belanja\n",
        "    total_per_barang = harga * jumlah\n",
        "    total_belanja += total_per_barang\n",
        "# Tampilkan hasil akhir dengan format mata uang\n",
        "print(f\"\\n>>> Total belanja Anda: Rp {total_belanja:,.2f}\")"
      ],
      "metadata": {
        "colab": {
          "base_uri": "https://localhost:8080/"
        },
        "id": "3Har_hWZ2C2n",
        "outputId": "0e40d41b-fbd1-4718-e09e-0bd6c838a514"
      },
      "execution_count": 33,
      "outputs": [
        {
          "output_type": "stream",
          "name": "stdout",
          "text": [
            "Masukkan jumlah barang yang dibeli: 3\n",
            "\n",
            "Barang ke-1\n",
            "Masukkan harga satuan barang: Rp 7000\n",
            "Masukkan jumlah unit: 3\n",
            "\n",
            "Barang ke-2\n",
            "Masukkan harga satuan barang: Rp 17000\n",
            "Masukkan jumlah unit: 5\n",
            "\n",
            "Barang ke-3\n",
            "Masukkan harga satuan barang: Rp 71000\n",
            "Masukkan jumlah unit: 17\n",
            "\n",
            ">>> Total belanja Anda: Rp 1,313,000.00\n"
          ]
        }
      ]
    }
  ]
}