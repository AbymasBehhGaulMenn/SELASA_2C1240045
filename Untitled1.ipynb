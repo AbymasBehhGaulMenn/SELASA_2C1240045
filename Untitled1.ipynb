{
  "nbformat": 4,
  "nbformat_minor": 0,
  "metadata": {
    "colab": {
      "provenance": [],
      "authorship_tag": "ABX9TyP7oFr3IQ6IRfzXvIJPI2m2",
      "include_colab_link": true
    },
    "kernelspec": {
      "name": "python3",
      "display_name": "Python 3"
    },
    "language_info": {
      "name": "python"
    }
  },
  "cells": [
    {
      "cell_type": "markdown",
      "metadata": {
        "id": "view-in-github",
        "colab_type": "text"
      },
      "source": [
        "<a href=\"https://colab.research.google.com/github/AbymasBehhGaulMenn/SELASA_2C1240045/blob/main/Untitled1.ipynb\" target=\"_parent\"><img src=\"https://colab.research.google.com/assets/colab-badge.svg\" alt=\"Open In Colab\"/></a>"
      ]
    },
    {
      "cell_type": "code",
      "execution_count": 1,
      "metadata": {
        "colab": {
          "base_uri": "https://localhost:8080/"
        },
        "id": "k3vzlPDDB_Q7",
        "outputId": "7f1a6de5-701e-4c2e-f1ba-6a9cd53677cf"
      },
      "outputs": [
        {
          "output_type": "stream",
          "name": "stdout",
          "text": [
            "Sembilan Lebih Besar Dari Angka Tujuh\n"
          ]
        }
      ],
      "source": [
        "# Kondisi if adalah kondisi yang akan dieksekusi oleh program jika bernilai benar atau TRUE\n",
        "\n",
        "nilai = 9\n",
        "\n",
        "#jika kondisi benar/TRUE maka program akan mengeksekusi perintah dibawahnya\n",
        "if(nilai > 7):\n",
        "    print(\"Sembilan Lebih Besar Dari Angka Tujuh\") # Kondisi Benar, Dieksekusi\n",
        "\n",
        "#jika kondisi salah/FALSE maka program tidak akan mengeksekusi perintah dibawahnya\n",
        "if(nilai > 10):\n",
        "    print(\"Sembilan Lebih Besar Dari Angka Sepuluh\") # Kondisi Salah, Maka tidak tereksekusi"
      ]
    },
    {
      "cell_type": "code",
      "source": [
        "grade = 100\n",
        "\n",
        "if grade == 100:\n",
        "    print(\"perfect\")\n",
        "\n",
        "if grade == 90:\n",
        "    print(\"ok\")\n",
        "    print(\"keep working hard!\")"
      ],
      "metadata": {
        "colab": {
          "base_uri": "https://localhost:8080/"
        },
        "id": "XNeo9jncCYgx",
        "outputId": "0697aa63-4d03-4c95-821c-87bf35d53935"
      },
      "execution_count": 3,
      "outputs": [
        {
          "output_type": "stream",
          "name": "stdout",
          "text": [
            "perfect\n"
          ]
        }
      ]
    },
    {
      "cell_type": "code",
      "source": [
        "grade = float(input(\"Masukkan Nilai Anda: \"))\n",
        "\n",
        "if grade == 100:\n",
        "    print(\"perfect\")\n",
        "\n",
        "if grade == 90:\n",
        "    print(\"ok\")\n",
        "    print(\"keep working hard!\")"
      ],
      "metadata": {
        "colab": {
          "base_uri": "https://localhost:8080/"
        },
        "id": "zwpWP9tRCkmh",
        "outputId": "250aeda3-866e-4dfe-c575-274be3b6747b"
      },
      "execution_count": 4,
      "outputs": [
        {
          "name": "stdout",
          "output_type": "stream",
          "text": [
            "Masukkan Nilai Anda: 73\n"
          ]
        }
      ]
    },
    {
      "cell_type": "code",
      "source": [
        "grade = int(input(\"Masukkan Nilai Anda: \"))\n",
        "\n",
        "if grade == 100:\n",
        "    print(\"perfect\")\n",
        "\n",
        "if grade == 90:\n",
        "    print(\"ok\")\n",
        "    print(\"keep working hard!\")"
      ],
      "metadata": {
        "colab": {
          "base_uri": "https://localhost:8080/"
        },
        "id": "KQ4oF_l2D7xR",
        "outputId": "cbf10c88-903b-42b1-e8ea-900b0a8c52de"
      },
      "execution_count": 5,
      "outputs": [
        {
          "name": "stdout",
          "output_type": "stream",
          "text": [
            "Masukkan Nilai Anda: 73\n"
          ]
        }
      ]
    },
    {
      "cell_type": "code",
      "source": [
        "# Kondisi if else adalah jika kondisi bernilai TRUE maka akan dieksekusi pada if,\n",
        "# tetapi jika bernilai FALSE maka akan dieksekusi kode pada else\n",
        "\n",
        "nilai = 8\n",
        "# Jika pernyataan pada if bernilai TRUE maka if akan dieksekusi,\n",
        "# tetapi jika FALSE kode pada else yang akan dieksekusi.\n",
        "if(nilai > 7):\n",
        "    print(\"Selamat Anda Lulus\")\n",
        "else:\n",
        "    print(\"Maaf Anda Tidak Lulus\")"
      ],
      "metadata": {
        "colab": {
          "base_uri": "https://localhost:8080/"
        },
        "id": "rs9pg6C9EfJB",
        "outputId": "809e14b9-1928-4e7c-ccc8-702d0f8388a5"
      },
      "execution_count": 9,
      "outputs": [
        {
          "output_type": "stream",
          "name": "stdout",
          "text": [
            "Selamat Anda Lulus\n"
          ]
        }
      ]
    },
    {
      "cell_type": "code",
      "source": [
        "str_input = input('Enter your grade: ')\n",
        "grade = int(str_input)\n",
        "\n",
        "if grade == 100:\n",
        "    print(\"perfect\")\n",
        "else:\n",
        "    print(\"keep it up\")"
      ],
      "metadata": {
        "colab": {
          "base_uri": "https://localhost:8080/"
        },
        "id": "c1aWXPkTGsCD",
        "outputId": "986cceb6-a907-4a39-d5d4-8c3a57d36d75"
      },
      "execution_count": 11,
      "outputs": [
        {
          "output_type": "stream",
          "name": "stdout",
          "text": [
            "Enter your grade: 100\n",
            "perfect\n"
          ]
        }
      ]
    },
    {
      "cell_type": "code",
      "source": [
        "Lapar = input(\"Apakah malaikat lapar? \")\n",
        "if(\"lapar == tidak\"):\n",
        "    print(\"malaikat tidak makan\")\n",
        "else:\n",
        "    print(\"malaikat makan\")"
      ],
      "metadata": {
        "colab": {
          "base_uri": "https://localhost:8080/"
        },
        "id": "eQT1OkI8G6-K",
        "outputId": "6438d0f9-97ff-4ec8-9dfa-59d8c847f73c"
      },
      "execution_count": 13,
      "outputs": [
        {
          "output_type": "stream",
          "name": "stdout",
          "text": [
            "Apakah malaikat lapar? tidak\n",
            "malaikat tidak makan\n"
          ]
        }
      ]
    },
    {
      "cell_type": "code",
      "source": [
        "#Contoh penggunaan kondisi elif\n",
        "\n",
        "hari_ini = input(\"Masukkan hari(gunakan huruf kecil): \")\n",
        "\n",
        "if(hari_ini == \"senin\"):\n",
        "    print(\"Saya akan kuliah\")\n",
        "elif(hari_ini == \"selasa\"):\n",
        "    print(\"Saya akan kuliah\")\n",
        "elif(hari_ini == \"rabu\"):\n",
        "    print(\"Saya akan kuliah\")\n",
        "elif(hari_ini == \"kamis\"):\n",
        "    print(\"Saya akan kuliah\")\n",
        "elif(hari_ini == \"jumat\"):\n",
        "    print(\"Saya akan kuliah dan rapat reorganisasi DKM Daarul Ikhwan\")\n",
        "elif(hari_ini == \"sabtu\"):\n",
        "    print(\"Saya akan pijat ke tukang urut\")\n",
        "elif(hari_ini == \"minggu\"):\n",
        "    print(\"Saya akan refreshing diri\")"
      ],
      "metadata": {
        "colab": {
          "base_uri": "https://localhost:8080/"
        },
        "id": "jXHLe4-hHrGq",
        "outputId": "b2df5745-0e25-411e-8346-5725efa035c9"
      },
      "execution_count": 21,
      "outputs": [
        {
          "output_type": "stream",
          "name": "stdout",
          "text": [
            "Masukkan hari(gunakan huruf kecil): minggu\n",
            "Saya akan refreshing diri\n"
          ]
        }
      ]
    },
    {
      "cell_type": "code",
      "source": [
        "str_input = input('Enter your grade: ')\n",
        "grade = int(str_input)\n",
        "\n",
        "if grade == 100:\n",
        "    print(\"perfect\")\n",
        "elif grade >= 85:\n",
        "    print(\"awesome\")\n",
        "elif grade >= 65:\n",
        "    print(\"passed the exam\")\n",
        "else:\n",
        "    print(\"below the passing grade\")"
      ],
      "metadata": {
        "colab": {
          "base_uri": "https://localhost:8080/"
        },
        "id": "mpvJ4jS7IHyK",
        "outputId": "0ab60243-52e2-4198-c1c7-979b0cc5976e"
      },
      "execution_count": 16,
      "outputs": [
        {
          "output_type": "stream",
          "name": "stdout",
          "text": [
            "Enter your grade: 84\n",
            "passed the exam\n"
          ]
        }
      ]
    },
    {
      "cell_type": "code",
      "source": [
        "str_input = input('Enter your grade: ')\n",
        "grade = int(str_input)\n",
        "if grade == 100:\n",
        " print(\"perfect\")\n",
        "elif grade >= 85:\n",
        " print(\"awesome\")\n",
        "elif grade >= 65:\n",
        "  print(\"passed the exam\")\n",
        "  if grade <= 70:\n",
        "    print(\"but you need to improve it!\")\n",
        "  else:\n",
        "    print(\"with ok grade\")\n",
        "else:\n",
        " print('below the passing grade')"
      ],
      "metadata": {
        "colab": {
          "base_uri": "https://localhost:8080/"
        },
        "id": "uQYTPNMHIxhR",
        "outputId": "836e26b8-767a-49b1-cb88-b5855ff84224"
      },
      "execution_count": 3,
      "outputs": [
        {
          "output_type": "stream",
          "name": "stdout",
          "text": [
            "Enter your grade: 80\n",
            "passed the exam\n",
            "with ok grade\n"
          ]
        }
      ]
    },
    {
      "cell_type": "code",
      "source": [
        "grade = int(input('Enter your current grade: '))\n",
        "prev_grade = int(input('Enter your previous grade: '))\n",
        "if grade >= 90 and prev_grade >= 65:\n",
        " print(\"awesome\")\n",
        "if grade >= 90 and prev_grade < 65:\n",
        " print(\"awesome. you definitely working hard, right?\")\n",
        "elif grade >= 65:\n",
        " print(\"passed the exam\")\n",
        "else:\n",
        " print(\"below the passing grade\")\n",
        "if (grade >= 65 and not prev_grade >= 65) or (not grade >= 65 and\n",
        "prev_grade >= 65):\n",
        " print(\"at least you passed one exam. good job!\")"
      ],
      "metadata": {
        "colab": {
          "base_uri": "https://localhost:8080/"
        },
        "id": "9vBarepfMACK",
        "outputId": "82cc4127-edd4-496e-aa0f-4698674018a8"
      },
      "execution_count": 37,
      "outputs": [
        {
          "output_type": "stream",
          "name": "stdout",
          "text": [
            "Enter your current grade: 50\n",
            "Enter your previous grade: 75\n",
            "below the passing grade\n",
            "at least you passed one exam. good job!\n"
          ]
        }
      ]
    },
    {
      "cell_type": "code",
      "source": [
        "umur = 19\n",
        "status = 'Dewasa' if umur >= 18 else 'Anak-anak'\n",
        "print(status)"
      ],
      "metadata": {
        "colab": {
          "base_uri": "https://localhost:8080/"
        },
        "id": "xfe-NphuMLEi",
        "outputId": "90762c5a-be33-4bed-8a8f-93c79359ecc6"
      },
      "execution_count": 38,
      "outputs": [
        {
          "output_type": "stream",
          "name": "stdout",
          "text": [
            "Dewasa\n"
          ]
        }
      ]
    },
    {
      "cell_type": "markdown",
      "source": [],
      "metadata": {
        "id": "5aS1BcsYCL9J"
      }
    },
    {
      "cell_type": "code",
      "source": [
        "#soal satu\n",
        "bilangan = input(\"masukkan sebuah bilangan: \")\n",
        "bilangan = int(bilangan)\n",
        "if bilangan % 3 == 0:\n",
        "  print(\"bilangan habis di bagi 3\")\n",
        "else :\n",
        "  print(\"bilangan tidak habis di bagi 3\")"
      ],
      "metadata": {
        "colab": {
          "base_uri": "https://localhost:8080/"
        },
        "id": "xS-ZGo24QoOr",
        "outputId": "0f666c59-2872-4d8c-d3a6-3a5351419076"
      },
      "execution_count": 10,
      "outputs": [
        {
          "output_type": "stream",
          "name": "stdout",
          "text": [
            "masukkan sebuah bilangan: 21\n",
            "bilangan habis di bagi 3\n"
          ]
        }
      ]
    },
    {
      "cell_type": "code",
      "source": [
        "#soal dua\n",
        "nama = input(\"masukkan nama anda: \")\n",
        "kelamin = input(\"masukkan jenis kelamin anda (pria/wanita): \")\n",
        "if kelamin ==\"pria\" :\n",
        "  print (\"halo bro\", nama)"
      ],
      "metadata": {
        "colab": {
          "base_uri": "https://localhost:8080/"
        },
        "id": "QZ75FZ7IM4aU",
        "outputId": "2305cc9b-0a0a-4a0c-ca86-366303a16ba3"
      },
      "execution_count": 11,
      "outputs": [
        {
          "output_type": "stream",
          "name": "stdout",
          "text": [
            "masukkan nama anda: Muhammad Abi Masykur\n",
            "masukkan jenis kelamin anda (pria/wanita): pria\n",
            "halo bro Muhammad Abi Masykur\n"
          ]
        }
      ]
    },
    {
      "cell_type": "code",
      "source": [
        "#soal tiga\n",
        "suka = input(\"mengapa abi banyak yang suka?: \")\n",
        "if grade ==\"cakep banget\" :\n",
        "  print(\"cakep banget\")\n",
        "elif grade >= 99:\n",
        "  print(\"tanpa batas\")\n",
        "else :\n",
        "  print(\"cakep banget\")"
      ],
      "metadata": {
        "colab": {
          "base_uri": "https://localhost:8080/"
        },
        "id": "vgfSfBOWVGYc",
        "outputId": "5268fb9f-5371-423b-9a7a-ae66abe9bdc2"
      },
      "execution_count": 12,
      "outputs": [
        {
          "output_type": "stream",
          "name": "stdout",
          "text": [
            "mengapa abi banyak yang suka?: karena gue cakep banget\n",
            "cakep banget\n"
          ]
        }
      ]
    }
  ]
}